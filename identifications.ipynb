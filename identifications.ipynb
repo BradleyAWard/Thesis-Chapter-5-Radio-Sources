{
 "cells": [
  {
   "cell_type": "markdown",
   "metadata": {},
   "source": [
    "## Identifications"
   ]
  },
  {
   "cell_type": "markdown",
   "metadata": {},
   "source": [
    "---"
   ]
  },
  {
   "cell_type": "markdown",
   "metadata": {},
   "source": [
    "### Imports"
   ]
  },
  {
   "cell_type": "code",
   "execution_count": 9,
   "metadata": {},
   "outputs": [],
   "source": [
    "import utils\n",
    "import numpy as np\n",
    "from astropy.cosmology import FlatLambdaCDM\n",
    "utils.rcparams()"
   ]
  },
  {
   "cell_type": "code",
   "execution_count": 7,
   "metadata": {},
   "outputs": [
    {
     "name": "stderr",
     "output_type": "stream",
     "text": [
      "/Users/bradleyward/Desktop/PhD/PhD_Projects/Thesis-Chapter-5-Radio-Sources/utils/loader.py:24: DtypeWarning: Columns (591) have mixed types. Specify dtype option on import or set low_memory=False.\n",
      "  data = read_csv(file_path)\n"
     ]
    }
   ],
   "source": [
    "# Load the Herschel, COSMOS2020 and matched VLA data sets\n",
    "herschel = utils.full_loader('Herschel')\n",
    "cosmos2020 = utils.full_loader('COSMOS2020')\n",
    "vla = utils.full_loader('VLA_COSMOS2020_05')\n",
    "\n",
    "# Add redshift errors to VLA data\n",
    "vla['lp_zPDF_low'] = vla['lp_zPDF']-vla['lp_zPDF_l68']\n",
    "vla['lp_zPDF_high'] = vla['lp_zPDF_u68']-vla['lp_zPDF']\n",
    "vla['lp_zPDF_err'] = (vla['lp_zPDF_low']+vla['lp_zPDF_high'])/2\n",
    "\n",
    "# Define the cosmology used throughout\n",
    "cosmo = FlatLambdaCDM(H0=70, Om0=0.3)"
   ]
  },
  {
   "cell_type": "markdown",
   "metadata": {},
   "source": [
    "---"
   ]
  },
  {
   "cell_type": "markdown",
   "metadata": {},
   "source": [
    "### Create COSMOS Survey"
   ]
  },
  {
   "cell_type": "code",
   "execution_count": 10,
   "metadata": {},
   "outputs": [],
   "source": [
    "# Define parameter files for sources and counterparts\n",
    "source_params = {'data': herschel,\n",
    "                 'name': 'id_her',\n",
    "                 'ra': 'RA_her',\n",
    "                 'dec': 'Dec_her',\n",
    "                 'wavelengths_obs_um': np.array([250,350,500]),\n",
    "                 'fluxes': ['F_BLIND_MF_SPIRE_250', 'F_BLIND_MF_SPIRE_350', 'F_BLIND_MF_SPIRE_500'],\n",
    "                 'flux_errors': ['FErr_BLIND_MF_SPIRE_250', 'FErr_BLIND_MF_SPIRE_350', 'FErr_BLIND_MF_SPIRE_500']}\n",
    "\n",
    "counterpart_params = {'data': vla,\n",
    "                      'name': 'id_cos',\n",
    "                      'ra': 'RA_cos',\n",
    "                      'dec': 'Dec_cos',\n",
    "                      'fluxes': ['total_int_flux'],\n",
    "                      'redshift': 'lp_zPDF',\n",
    "                      'redshift_err': 'lp_zPDF_err'}"
   ]
  },
  {
   "cell_type": "code",
   "execution_count": null,
   "metadata": {},
   "outputs": [],
   "source": [
    "herschel_objects, vla_objects = create_sources_and_counterparts(source_params, counterpart_params)\n",
    "cosmos = Survey(herschel_objects, vla_objects)\n",
    "print('Region being used: RA - {:.3f} to {:.3f}, DEC - {:.3f} to {:.3f}'.format(cosmos.ra_min, cosmos.ra_max, cosmos.dec_min, cosmos.dec_max))\n",
    "print('Area of Overlapping Region = {:.2f} deg2'.format(cosmos.area_deg))"
   ]
  }
 ],
 "metadata": {
  "kernelspec": {
   "display_name": ".venv",
   "language": "python",
   "name": "python3"
  },
  "language_info": {
   "codemirror_mode": {
    "name": "ipython",
    "version": 3
   },
   "file_extension": ".py",
   "mimetype": "text/x-python",
   "name": "python",
   "nbconvert_exporter": "python",
   "pygments_lexer": "ipython3",
   "version": "3.11.0"
  }
 },
 "nbformat": 4,
 "nbformat_minor": 2
}
